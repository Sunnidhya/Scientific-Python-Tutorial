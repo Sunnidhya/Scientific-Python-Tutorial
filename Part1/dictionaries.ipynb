{
 "cells": [
  {
   "cell_type": "markdown",
   "id": "ef375d9f",
   "metadata": {},
   "source": [
    "# Dictionaries"
   ]
  },
  {
   "cell_type": "code",
   "execution_count": 1,
   "id": "7c54f97e",
   "metadata": {},
   "outputs": [
    {
     "data": {
      "text/plain": [
       "{}"
      ]
     },
     "execution_count": 1,
     "metadata": {},
     "output_type": "execute_result"
    }
   ],
   "source": [
    "# A dictionary in python is similar to a structure in matlab\n",
    "\n",
    "D = dict()\n",
    "D"
   ]
  },
  {
   "cell_type": "code",
   "execution_count": 2,
   "id": "c1982c89",
   "metadata": {},
   "outputs": [
    {
     "name": "stdout",
     "output_type": "stream",
     "text": [
      "Variable   Type    Data/Info\n",
      "----------------------------\n",
      "D          dict    n=0\n"
     ]
    }
   ],
   "source": [
    "%whos"
   ]
  },
  {
   "cell_type": "code",
   "execution_count": 3,
   "id": "9d844a99",
   "metadata": {},
   "outputs": [],
   "source": [
    "# [] --> indicates List\n",
    "# {} --> indicates Dictionaries\n",
    "# () --> indicates tuples, methods, functions etc.\n",
    "\n",
    "\n"
   ]
  },
  {
   "cell_type": "code",
   "execution_count": 4,
   "id": "e43340b6",
   "metadata": {},
   "outputs": [],
   "source": [
    "# Key/ value pair\n",
    "D['name'] = 'Sunny'\n",
    "D['AgeRange'] = [15, 30]"
   ]
  },
  {
   "cell_type": "code",
   "execution_count": 5,
   "id": "11f82c11",
   "metadata": {},
   "outputs": [
    {
     "data": {
      "text/plain": [
       "{'name': 'Sunny', 'AgeRange': [15, 30]}"
      ]
     },
     "execution_count": 5,
     "metadata": {},
     "output_type": "execute_result"
    }
   ],
   "source": [
    "D"
   ]
  },
  {
   "cell_type": "code",
   "execution_count": 6,
   "id": "a9b1f5f0",
   "metadata": {},
   "outputs": [],
   "source": [
    "E = {'name': 'Sunny', 'AgeRange': [15, 30]}"
   ]
  },
  {
   "cell_type": "code",
   "execution_count": 7,
   "id": "f4a593b2",
   "metadata": {},
   "outputs": [
    {
     "data": {
      "text/plain": [
       "{'name': 'Sunny', 'AgeRange': [15, 30]}"
      ]
     },
     "execution_count": 7,
     "metadata": {},
     "output_type": "execute_result"
    }
   ],
   "source": [
    "E"
   ]
  },
  {
   "cell_type": "code",
   "execution_count": 8,
   "id": "2ec53037",
   "metadata": {},
   "outputs": [
    {
     "data": {
      "text/plain": [
       "'Sunny'"
      ]
     },
     "execution_count": 8,
     "metadata": {},
     "output_type": "execute_result"
    }
   ],
   "source": [
    "D['name']"
   ]
  },
  {
   "cell_type": "code",
   "execution_count": 9,
   "id": "81dca3a0",
   "metadata": {},
   "outputs": [
    {
     "data": {
      "text/plain": [
       "dict_keys(['name', 'AgeRange'])"
      ]
     },
     "execution_count": 9,
     "metadata": {},
     "output_type": "execute_result"
    }
   ],
   "source": [
    "# Dynamically consider all keys \n",
    "D.keys()"
   ]
  },
  {
   "cell_type": "code",
   "execution_count": 11,
   "id": "3dc98064",
   "metadata": {},
   "outputs": [
    {
     "data": {
      "text/plain": [
       "False"
      ]
     },
     "execution_count": 11,
     "metadata": {},
     "output_type": "execute_result"
    }
   ],
   "source": [
    "'name' in D.keys()\n",
    "'name1' in D.keys()"
   ]
  },
  {
   "cell_type": "code",
   "execution_count": 13,
   "id": "a174eece",
   "metadata": {},
   "outputs": [
    {
     "data": {
      "text/plain": [
       "False"
      ]
     },
     "execution_count": 13,
     "metadata": {},
     "output_type": "execute_result"
    }
   ],
   "source": [
    "'Name' in D.keys()\n",
    "# Not case sensitive"
   ]
  },
  {
   "cell_type": "code",
   "execution_count": 14,
   "id": "002f523a",
   "metadata": {},
   "outputs": [
    {
     "data": {
      "text/plain": [
       "True"
      ]
     },
     "execution_count": 14,
     "metadata": {},
     "output_type": "execute_result"
    }
   ],
   "source": [
    "'name' in D\n",
    "# This is similar to writing D.keys()\n"
   ]
  },
  {
   "cell_type": "code",
   "execution_count": 15,
   "id": "18a788b8",
   "metadata": {},
   "outputs": [
    {
     "data": {
      "text/plain": [
       "dict_values(['Sunny', [15, 30]])"
      ]
     },
     "execution_count": 15,
     "metadata": {},
     "output_type": "execute_result"
    }
   ],
   "source": [
    "# To consider all the values in the dictionary\n",
    "D.values()"
   ]
  },
  {
   "cell_type": "code",
   "execution_count": 16,
   "id": "9a14cd4e",
   "metadata": {},
   "outputs": [
    {
     "data": {
      "text/plain": [
       "dict_items([('name', 'Sunny'), ('AgeRange', [15, 30])])"
      ]
     },
     "execution_count": 16,
     "metadata": {},
     "output_type": "execute_result"
    }
   ],
   "source": [
    "D.items()"
   ]
  },
  {
   "cell_type": "code",
   "execution_count": 18,
   "id": "1b53ff79",
   "metadata": {},
   "outputs": [
    {
     "data": {
      "text/plain": [
       "{'fNum': 3.0, 'sNum': 4.0, 'prod': 12.0}"
      ]
     },
     "execution_count": 18,
     "metadata": {},
     "output_type": "execute_result"
    }
   ],
   "source": [
    "D = {}\n",
    "a = float(input(\"Enter a\"))\n",
    "b = float(input(\"Enter b\"))\n",
    "\n",
    "D['fNum'] = a\n",
    "D['sNum'] = b\n",
    "D['prod'] = D['fNum'] * D['sNum']\n",
    "\n",
    "D"
   ]
  },
  {
   "cell_type": "code",
   "execution_count": null,
   "id": "cf256f9b",
   "metadata": {},
   "outputs": [],
   "source": []
  }
 ],
 "metadata": {
  "kernelspec": {
   "display_name": "env (3.13.7)",
   "language": "python",
   "name": "python3"
  },
  "language_info": {
   "codemirror_mode": {
    "name": "ipython",
    "version": 3
   },
   "file_extension": ".py",
   "mimetype": "text/x-python",
   "name": "python",
   "nbconvert_exporter": "python",
   "pygments_lexer": "ipython3",
   "version": "3.13.7"
  }
 },
 "nbformat": 4,
 "nbformat_minor": 5
}
