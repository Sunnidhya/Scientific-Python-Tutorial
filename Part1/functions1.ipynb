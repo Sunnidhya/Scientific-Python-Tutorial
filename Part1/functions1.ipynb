{
 "cells": [
  {
   "cell_type": "code",
   "execution_count": 1,
   "id": "76f4a1c8",
   "metadata": {},
   "outputs": [],
   "source": [
    "def awesomeFunction():\n",
    "    print(1+1)"
   ]
  },
  {
   "cell_type": "code",
   "execution_count": 2,
   "id": "55aae5ac",
   "metadata": {},
   "outputs": [
    {
     "name": "stdout",
     "output_type": "stream",
     "text": [
      "2\n"
     ]
    }
   ],
   "source": [
    "awesomeFunction()"
   ]
  },
  {
   "cell_type": "code",
   "execution_count": 8,
   "id": "0b348bf9",
   "metadata": {},
   "outputs": [
    {
     "name": "stdout",
     "output_type": "stream",
     "text": [
      "2\n",
      "None\n"
     ]
    }
   ],
   "source": [
    "a = awesomeFunction()\n",
    "print(a)"
   ]
  },
  {
   "cell_type": "code",
   "execution_count": 3,
   "id": "2b63bab4",
   "metadata": {},
   "outputs": [
    {
     "data": {
      "text/plain": [
       "<function __main__.awesomeFunction()>"
      ]
     },
     "execution_count": 3,
     "metadata": {},
     "output_type": "execute_result"
    }
   ],
   "source": [
    "awesomeFunction"
   ]
  },
  {
   "cell_type": "code",
   "execution_count": 4,
   "id": "02089585",
   "metadata": {},
   "outputs": [],
   "source": [
    "def superAwesome(input1, input2):\n",
    "    return input1+input2"
   ]
  },
  {
   "cell_type": "code",
   "execution_count": 5,
   "id": "2760a32c",
   "metadata": {},
   "outputs": [
    {
     "ename": "TypeError",
     "evalue": "superAwesome() missing 2 required positional arguments: 'input1' and 'input2'",
     "output_type": "error",
     "traceback": [
      "\u001b[31m---------------------------------------------------------------------------\u001b[39m",
      "\u001b[31mTypeError\u001b[39m                                 Traceback (most recent call last)",
      "\u001b[36mCell\u001b[39m\u001b[36m \u001b[39m\u001b[32mIn[5]\u001b[39m\u001b[32m, line 1\u001b[39m\n\u001b[32m----> \u001b[39m\u001b[32m1\u001b[39m \u001b[43msuperAwesome\u001b[49m\u001b[43m(\u001b[49m\u001b[43m)\u001b[49m\n",
      "\u001b[31mTypeError\u001b[39m: superAwesome() missing 2 required positional arguments: 'input1' and 'input2'"
     ]
    }
   ],
   "source": [
    "superAwesome()"
   ]
  },
  {
   "cell_type": "code",
   "execution_count": 6,
   "id": "c1c3d89a",
   "metadata": {},
   "outputs": [
    {
     "data": {
      "text/plain": [
       "3"
      ]
     },
     "execution_count": 6,
     "metadata": {},
     "output_type": "execute_result"
    }
   ],
   "source": [
    "superAwesome(1,2)"
   ]
  },
  {
   "cell_type": "code",
   "execution_count": 10,
   "id": "6af2337a",
   "metadata": {},
   "outputs": [
    {
     "name": "stdout",
     "output_type": "stream",
     "text": [
      "3\n"
     ]
    }
   ],
   "source": [
    "a = superAwesome(1,2)\n",
    "print(a)"
   ]
  },
  {
   "cell_type": "code",
   "execution_count": 11,
   "id": "f972f77a",
   "metadata": {},
   "outputs": [],
   "source": [
    "# Returning multiple values\n",
    "def math(a,b):\n",
    "    return a+b, a*b, a-b"
   ]
  },
  {
   "cell_type": "code",
   "execution_count": 12,
   "id": "5d3f2275",
   "metadata": {},
   "outputs": [
    {
     "data": {
      "text/plain": [
       "(3, 2, -1)"
      ]
     },
     "execution_count": 12,
     "metadata": {},
     "output_type": "execute_result"
    }
   ],
   "source": [
    "math(1,2)"
   ]
  },
  {
   "cell_type": "code",
   "execution_count": 13,
   "id": "e9ad3a1f",
   "metadata": {},
   "outputs": [
    {
     "data": {
      "text/plain": [
       "tuple"
      ]
     },
     "execution_count": 13,
     "metadata": {},
     "output_type": "execute_result"
    }
   ],
   "source": [
    "type(math(1,2))"
   ]
  },
  {
   "cell_type": "code",
   "execution_count": 14,
   "id": "8a450908",
   "metadata": {},
   "outputs": [
    {
     "data": {
      "text/plain": [
       "3"
      ]
     },
     "execution_count": 14,
     "metadata": {},
     "output_type": "execute_result"
    }
   ],
   "source": [
    "res = math(1,2)\n",
    "res[0]"
   ]
  },
  {
   "cell_type": "code",
   "execution_count": 15,
   "id": "eaeb19a4",
   "metadata": {},
   "outputs": [
    {
     "name": "stdout",
     "output_type": "stream",
     "text": [
      "3 2 -1\n"
     ]
    }
   ],
   "source": [
    "sum, prod, sub = math(1,2)\n",
    "print(sum, prod, sub)"
   ]
  },
  {
   "cell_type": "code",
   "execution_count": 19,
   "id": "5455e45b",
   "metadata": {},
   "outputs": [],
   "source": [
    "# lambda functions\n",
    "# lambda input: result computation\n",
    "# The entire lambda function should be on the same line\n",
    "\n",
    "littleFun = lambda x : x**2 -1"
   ]
  },
  {
   "cell_type": "code",
   "execution_count": 20,
   "id": "d1d69221",
   "metadata": {},
   "outputs": [
    {
     "data": {
      "text/plain": [
       "0"
      ]
     },
     "execution_count": 20,
     "metadata": {},
     "output_type": "execute_result"
    }
   ],
   "source": [
    "littleFun(1)"
   ]
  },
  {
   "cell_type": "code",
   "execution_count": 21,
   "id": "bb95fb46",
   "metadata": {},
   "outputs": [
    {
     "data": {
      "text/plain": [
       "15"
      ]
     },
     "execution_count": 21,
     "metadata": {},
     "output_type": "execute_result"
    }
   ],
   "source": [
    "littleFun(4)"
   ]
  },
  {
   "cell_type": "code",
   "execution_count": null,
   "id": "33ef0287",
   "metadata": {},
   "outputs": [],
   "source": [
    "# Exercise\n",
    "# Create a function that computes the factorial of an interger\n",
    "# 5! = 5.4.3.2.1\n",
    "def fact(a):\n",
    "    if a == 0:\n",
    "        return 1\n",
    "    return fact(a-1) * a"
   ]
  },
  {
   "cell_type": "code",
   "execution_count": 23,
   "id": "44aff5a0",
   "metadata": {},
   "outputs": [
    {
     "data": {
      "text/plain": [
       "24"
      ]
     },
     "execution_count": 23,
     "metadata": {},
     "output_type": "execute_result"
    }
   ],
   "source": [
    "fact(4)"
   ]
  },
  {
   "cell_type": "code",
   "execution_count": 24,
   "id": "b8ad55df",
   "metadata": {},
   "outputs": [
    {
     "data": {
      "text/plain": [
       "93326215443944152681699238856266700490715968264381621468592963895217599993229915608941463976156518286253697920827223758251185210916864000000000000000000000000"
      ]
     },
     "execution_count": 24,
     "metadata": {},
     "output_type": "execute_result"
    }
   ],
   "source": [
    "fact(100)"
   ]
  },
  {
   "cell_type": "code",
   "execution_count": 25,
   "id": "904b0cbc",
   "metadata": {},
   "outputs": [
    {
     "data": {
      "text/plain": [
       "120"
      ]
     },
     "execution_count": 25,
     "metadata": {},
     "output_type": "execute_result"
    }
   ],
   "source": [
    "fact(5)"
   ]
  },
  {
   "cell_type": "code",
   "execution_count": 39,
   "id": "80f6890f",
   "metadata": {},
   "outputs": [],
   "source": [
    "# Using numpy\n",
    "import numpy as np\n",
    "\n",
    "def npFact(a):\n",
    "    # return np.prod(range(1,a+1)) Both works\n",
    "    return np.prod(np.arange(1,a+1))"
   ]
  },
  {
   "cell_type": "code",
   "execution_count": 38,
   "id": "73f7d287",
   "metadata": {},
   "outputs": [
    {
     "data": {
      "text/plain": [
       "120"
      ]
     },
     "execution_count": 38,
     "metadata": {},
     "output_type": "execute_result"
    }
   ],
   "source": [
    "npFact(5).item()"
   ]
  },
  {
   "cell_type": "code",
   "execution_count": 40,
   "id": "f756676a",
   "metadata": {},
   "outputs": [
    {
     "name": "stdout",
     "output_type": "stream",
     "text": [
      "2432902008176640000 2432902008176640000\n"
     ]
    }
   ],
   "source": [
    "import math\n",
    "k = 20\n",
    "print(math.factorial(k), npFact(k))"
   ]
  },
  {
   "cell_type": "code",
   "execution_count": null,
   "id": "a63434dc",
   "metadata": {},
   "outputs": [
    {
     "name": "stdout",
     "output_type": "stream",
     "text": [
      "25852016738884976640000 8128291617894825984\n"
     ]
    }
   ],
   "source": [
    "import math\n",
    "k = 23\n",
    "print(math.factorial(k), npFact(k))\n",
    "\n",
    "# It breaks because the value goes beyond our computers precision and we have to handle it properly.\n"
   ]
  },
  {
   "cell_type": "code",
   "execution_count": 42,
   "id": "db1949ee",
   "metadata": {},
   "outputs": [
    {
     "name": "stdout",
     "output_type": "stream",
     "text": [
      "\u001b[31mSignature:\u001b[39m math.factorial(n, /)\n",
      "\u001b[31mDocstring:\u001b[39m Find n!.\n",
      "\u001b[31mType:\u001b[39m      builtin_function_or_method"
     ]
    }
   ],
   "source": [
    "math.factorial??"
   ]
  },
  {
   "cell_type": "code",
   "execution_count": 43,
   "id": "cfe63f4d",
   "metadata": {},
   "outputs": [],
   "source": [
    "# Global and Local variable scope"
   ]
  },
  {
   "cell_type": "code",
   "execution_count": 45,
   "id": "e88e02a3",
   "metadata": {},
   "outputs": [
    {
     "name": "stdout",
     "output_type": "stream",
     "text": [
      "Variable          Type        Data/Info\n",
      "---------------------------------------\n",
      "a                 int         3\n",
      "awesomeFunction   function    <function awesomeFunction at 0x000002D10533D4E0>\n",
      "fact              function    <function fact at 0x000002D1059C04A0>\n",
      "k                 int         23\n",
      "littleFun         function    <function <lambda> at 0x000002D105937C40>\n",
      "math              module      <module 'math' (built-in)>\n",
      "np                module      <module 'numpy' from 'c:\\<...>ges\\\\numpy\\\\__init__.py'>\n",
      "npFact            function    <function npFact at 0x000002D11BCBA0C0>\n",
      "prod              int         2\n",
      "res               tuple       n=3\n",
      "sub               int         -1\n",
      "sum               int         3\n",
      "superAwesome      function    <function superAwesome at 0x000002D10533E020>\n"
     ]
    }
   ],
   "source": [
    "%whos"
   ]
  },
  {
   "cell_type": "code",
   "execution_count": null,
   "id": "d6799b85",
   "metadata": {},
   "outputs": [
    {
     "name": "stdout",
     "output_type": "stream",
     "text": [
      "70\n"
     ]
    },
    {
     "data": {
      "text/plain": [
       "10"
      ]
     },
     "execution_count": 47,
     "metadata": {},
     "output_type": "execute_result"
    }
   ],
   "source": [
    "x = 10 # Global scope\n",
    "\n",
    "def funfun():\n",
    "    x = 7 # local scope has higher precedence in case of same variable name    \n",
    "    y = 10\n",
    "    print(x*y)\n",
    "\n",
    "funfun()\n",
    "x"
   ]
  },
  {
   "cell_type": "code",
   "execution_count": 48,
   "id": "2a8bb68d",
   "metadata": {},
   "outputs": [],
   "source": [
    "def fz():\n",
    "    print(z)"
   ]
  },
  {
   "cell_type": "code",
   "execution_count": 49,
   "id": "5a6c6f7f",
   "metadata": {},
   "outputs": [
    {
     "ename": "NameError",
     "evalue": "name 'z' is not defined",
     "output_type": "error",
     "traceback": [
      "\u001b[31m---------------------------------------------------------------------------\u001b[39m",
      "\u001b[31mNameError\u001b[39m                                 Traceback (most recent call last)",
      "\u001b[36mCell\u001b[39m\u001b[36m \u001b[39m\u001b[32mIn[49]\u001b[39m\u001b[32m, line 1\u001b[39m\n\u001b[32m----> \u001b[39m\u001b[32m1\u001b[39m \u001b[43mfz\u001b[49m\u001b[43m(\u001b[49m\u001b[43m)\u001b[49m\n",
      "\u001b[36mCell\u001b[39m\u001b[36m \u001b[39m\u001b[32mIn[48]\u001b[39m\u001b[32m, line 2\u001b[39m, in \u001b[36mfz\u001b[39m\u001b[34m()\u001b[39m\n\u001b[32m      1\u001b[39m \u001b[38;5;28;01mdef\u001b[39;00m\u001b[38;5;250m \u001b[39m\u001b[34mfz\u001b[39m():\n\u001b[32m----> \u001b[39m\u001b[32m2\u001b[39m     \u001b[38;5;28mprint\u001b[39m(\u001b[43mz\u001b[49m)\n",
      "\u001b[31mNameError\u001b[39m: name 'z' is not defined"
     ]
    }
   ],
   "source": [
    "fz()"
   ]
  },
  {
   "cell_type": "code",
   "execution_count": 50,
   "id": "553f795e",
   "metadata": {},
   "outputs": [
    {
     "name": "stdout",
     "output_type": "stream",
     "text": [
      "3\n"
     ]
    }
   ],
   "source": [
    "z=3\n",
    "fz()"
   ]
  },
  {
   "cell_type": "code",
   "execution_count": 51,
   "id": "50b9c20c",
   "metadata": {},
   "outputs": [],
   "source": [
    "# Exercise\n",
    "# Write a function that flips a coin N times and reports the average\n"
   ]
  },
  {
   "cell_type": "code",
   "execution_count": 55,
   "id": "b450a8d1",
   "metadata": {},
   "outputs": [],
   "source": [
    "import numpy as np\n",
    "\n",
    "def coinflip(N):\n",
    "    return np.mean(np.random.randn(N)>0)"
   ]
  },
  {
   "cell_type": "code",
   "execution_count": 59,
   "id": "a2a6848c",
   "metadata": {},
   "outputs": [
    {
     "name": "stdout",
     "output_type": "stream",
     "text": [
      "0.499343\n"
     ]
    }
   ],
   "source": [
    "N = int(input('Enter the number of coin flips'))\n",
    "print(coinflip(N))\n",
    "\n",
    "# By law of large number the more the value of N the average will be around 0.5"
   ]
  },
  {
   "cell_type": "code",
   "execution_count": null,
   "id": "c20ed677",
   "metadata": {},
   "outputs": [],
   "source": []
  }
 ],
 "metadata": {
  "kernelspec": {
   "display_name": "env (3.13.7)",
   "language": "python",
   "name": "python3"
  },
  "language_info": {
   "codemirror_mode": {
    "name": "ipython",
    "version": 3
   },
   "file_extension": ".py",
   "mimetype": "text/x-python",
   "name": "python",
   "nbconvert_exporter": "python",
   "pygments_lexer": "ipython3",
   "version": "3.13.7"
  }
 },
 "nbformat": 4,
 "nbformat_minor": 5
}
