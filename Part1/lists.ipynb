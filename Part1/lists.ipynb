{
 "cells": [
  {
   "cell_type": "code",
   "execution_count": 1,
   "id": "1633bb43",
   "metadata": {},
   "outputs": [
    {
     "name": "stdout",
     "output_type": "stream",
     "text": [
      "Variable   Type    Data/Info\n",
      "----------------------------\n",
      "aList      list    n=5\n"
     ]
    }
   ],
   "source": [
    "# Ordered collection of items\n",
    "aList = [0,1,2,3,4]\n",
    "%whos"
   ]
  },
  {
   "cell_type": "code",
   "execution_count": 2,
   "id": "0870c1fb",
   "metadata": {},
   "outputs": [],
   "source": [
    "strList = ['hi', 'my', 'name', 'is', 'Sunny']"
   ]
  },
  {
   "cell_type": "code",
   "execution_count": 3,
   "id": "48273696",
   "metadata": {},
   "outputs": [],
   "source": [
    "mixList = [1,2.1,'hi']"
   ]
  },
  {
   "cell_type": "code",
   "execution_count": 6,
   "id": "7ae59221",
   "metadata": {},
   "outputs": [],
   "source": [
    "listList = [1,['hi', 1.2], 'hey']"
   ]
  },
  {
   "cell_type": "code",
   "execution_count": 7,
   "id": "47fb6405",
   "metadata": {},
   "outputs": [
    {
     "data": {
      "text/plain": [
       "True"
      ]
     },
     "execution_count": 7,
     "metadata": {},
     "output_type": "execute_result"
    }
   ],
   "source": [
    "#Checking if an element is present in the list\n",
    "4 in aList"
   ]
  },
  {
   "cell_type": "code",
   "execution_count": 8,
   "id": "372b9abf",
   "metadata": {},
   "outputs": [
    {
     "data": {
      "text/plain": [
       "False"
      ]
     },
     "execution_count": 8,
     "metadata": {},
     "output_type": "execute_result"
    }
   ],
   "source": [
    "10 in aList"
   ]
  },
  {
   "cell_type": "code",
   "execution_count": 9,
   "id": "888bfd61",
   "metadata": {},
   "outputs": [
    {
     "data": {
      "text/plain": [
       "True"
      ]
     },
     "execution_count": 9,
     "metadata": {},
     "output_type": "execute_result"
    }
   ],
   "source": [
    "10 not in aList"
   ]
  },
  {
   "cell_type": "code",
   "execution_count": 11,
   "id": "d21ba02f",
   "metadata": {},
   "outputs": [
    {
     "data": {
      "text/plain": [
       "False"
      ]
     },
     "execution_count": 11,
     "metadata": {},
     "output_type": "execute_result"
    }
   ],
   "source": [
    "1.2 in listList"
   ]
  },
  {
   "cell_type": "code",
   "execution_count": 12,
   "id": "156f600c",
   "metadata": {},
   "outputs": [
    {
     "data": {
      "text/plain": [
       "True"
      ]
     },
     "execution_count": 12,
     "metadata": {},
     "output_type": "execute_result"
    }
   ],
   "source": [
    "1.2 in listList[1]"
   ]
  },
  {
   "cell_type": "code",
   "execution_count": 15,
   "id": "b8c5b911",
   "metadata": {},
   "outputs": [
    {
     "name": "stdout",
     "output_type": "stream",
     "text": [
      "Variable   Type    Data/Info\n",
      "----------------------------\n",
      "aList      list    n=5\n",
      "listList   list    n=3\n",
      "mixList    list    n=3\n",
      "strList    list    n=5\n"
     ]
    }
   ],
   "source": [
    "# Mathematical operations on lists\n",
    "%whos"
   ]
  },
  {
   "cell_type": "code",
   "execution_count": 14,
   "id": "7c272e95",
   "metadata": {},
   "outputs": [
    {
     "data": {
      "text/plain": [
       "[0, 1, 2, 3, 4, 0, 1, 2, 3, 4]"
      ]
     },
     "execution_count": 14,
     "metadata": {},
     "output_type": "execute_result"
    }
   ],
   "source": [
    "aList + aList"
   ]
  },
  {
   "cell_type": "code",
   "execution_count": 16,
   "id": "11cc07d5",
   "metadata": {},
   "outputs": [
    {
     "data": {
      "text/plain": [
       "[0, 1, 2, 3, 4, 0, 1, 2, 3, 4]"
      ]
     },
     "execution_count": 16,
     "metadata": {},
     "output_type": "execute_result"
    }
   ],
   "source": [
    "aList * 2"
   ]
  },
  {
   "cell_type": "code",
   "execution_count": 17,
   "id": "9d09044f",
   "metadata": {},
   "outputs": [
    {
     "ename": "TypeError",
     "evalue": "unsupported operand type(s) for ** or pow(): 'list' and 'int'",
     "output_type": "error",
     "traceback": [
      "\u001b[31m---------------------------------------------------------------------------\u001b[39m",
      "\u001b[31mTypeError\u001b[39m                                 Traceback (most recent call last)",
      "\u001b[36mCell\u001b[39m\u001b[36m \u001b[39m\u001b[32mIn[17]\u001b[39m\u001b[32m, line 1\u001b[39m\n\u001b[32m----> \u001b[39m\u001b[32m1\u001b[39m \u001b[43maList\u001b[49m\u001b[43m \u001b[49m\u001b[43m*\u001b[49m\u001b[43m*\u001b[49m\u001b[43m \u001b[49m\u001b[32;43m2\u001b[39;49m\n",
      "\u001b[31mTypeError\u001b[39m: unsupported operand type(s) for ** or pow(): 'list' and 'int'"
     ]
    }
   ],
   "source": [
    "aList ** 2"
   ]
  },
  {
   "cell_type": "code",
   "execution_count": 18,
   "id": "e7228cf6",
   "metadata": {},
   "outputs": [
    {
     "data": {
      "text/plain": [
       "[0, 1, 2, 3, 4, 'hi', 'my', 'name', 'is', 'Sunny']"
      ]
     },
     "execution_count": 18,
     "metadata": {},
     "output_type": "execute_result"
    }
   ],
   "source": [
    "aList + strList"
   ]
  },
  {
   "cell_type": "code",
   "execution_count": 21,
   "id": "b207f448",
   "metadata": {},
   "outputs": [
    {
     "data": {
      "text/plain": [
       "[0, 1, 2, 3, 4, 5, 5, -1]"
      ]
     },
     "execution_count": 21,
     "metadata": {},
     "output_type": "execute_result"
    }
   ],
   "source": [
    "# Methods\n",
    "\n",
    "aList.append(-1)\n",
    "aList"
   ]
  },
  {
   "cell_type": "code",
   "execution_count": 22,
   "id": "f6091e6c",
   "metadata": {},
   "outputs": [],
   "source": [
    "aList.sort()"
   ]
  },
  {
   "cell_type": "code",
   "execution_count": 23,
   "id": "6dc873f3",
   "metadata": {},
   "outputs": [
    {
     "data": {
      "text/plain": [
       "[-1, 0, 1, 2, 3, 4, 5, 5]"
      ]
     },
     "execution_count": 23,
     "metadata": {},
     "output_type": "execute_result"
    }
   ],
   "source": [
    "aList"
   ]
  },
  {
   "cell_type": "code",
   "execution_count": null,
   "id": "39cb1038",
   "metadata": {},
   "outputs": [],
   "source": []
  }
 ],
 "metadata": {
  "kernelspec": {
   "display_name": "env (3.13.7)",
   "language": "python",
   "name": "python3"
  },
  "language_info": {
   "codemirror_mode": {
    "name": "ipython",
    "version": 3
   },
   "file_extension": ".py",
   "mimetype": "text/x-python",
   "name": "python",
   "nbconvert_exporter": "python",
   "pygments_lexer": "ipython3",
   "version": "3.13.7"
  }
 },
 "nbformat": 4,
 "nbformat_minor": 5
}
