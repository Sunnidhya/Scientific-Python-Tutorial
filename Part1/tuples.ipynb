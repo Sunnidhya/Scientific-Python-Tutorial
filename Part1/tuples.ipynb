{
 "cells": [
  {
   "cell_type": "code",
   "execution_count": 2,
   "id": "69216fc8",
   "metadata": {},
   "outputs": [],
   "source": [
    "# Tuples"
   ]
  },
  {
   "cell_type": "code",
   "execution_count": 4,
   "id": "7880b215",
   "metadata": {},
   "outputs": [
    {
     "name": "stdout",
     "output_type": "stream",
     "text": [
      "[0, '4', 3]\n"
     ]
    },
    {
     "ename": "TypeError",
     "evalue": "'tuple' object does not support item assignment",
     "output_type": "error",
     "traceback": [
      "\u001b[31m---------------------------------------------------------------------------\u001b[39m",
      "\u001b[31mTypeError\u001b[39m                                 Traceback (most recent call last)",
      "\u001b[36mCell\u001b[39m\u001b[36m \u001b[39m\u001b[32mIn[4]\u001b[39m\u001b[32m, line 10\u001b[39m\n\u001b[32m      7\u001b[39m aList[\u001b[32m0\u001b[39m] = \u001b[32m0\u001b[39m\n\u001b[32m      8\u001b[39m \u001b[38;5;28mprint\u001b[39m(aList)\n\u001b[32m---> \u001b[39m\u001b[32m10\u001b[39m \u001b[43maTuple\u001b[49m\u001b[43m[\u001b[49m\u001b[32;43m0\u001b[39;49m\u001b[43m]\u001b[49m = \u001b[32m0\u001b[39m \u001b[38;5;66;03m# Throws error\u001b[39;00m\n\u001b[32m     11\u001b[39m \u001b[38;5;28mprint\u001b[39m(aTuple) \n",
      "\u001b[31mTypeError\u001b[39m: 'tuple' object does not support item assignment"
     ]
    }
   ],
   "source": [
    "aTuple = (3, '4', 3)\n",
    "aList = [3, '4', 3]\n",
    "\n",
    "# A tuple is immutable whereas a \n",
    "# list is mutable\n",
    "\n",
    "aList[0] = 0\n",
    "print(aList)\n",
    "\n",
    "aTuple[0] = 0 # Throws error\n",
    "print(aTuple) "
   ]
  },
  {
   "cell_type": "code",
   "execution_count": 5,
   "id": "59ebe519",
   "metadata": {},
   "outputs": [],
   "source": [
    "aTuple = (1, 2, 3) \n",
    "# Entire tuple can be replaced but not\n",
    "# individual elements"
   ]
  },
  {
   "cell_type": "code",
   "execution_count": 6,
   "id": "f14f1f0c",
   "metadata": {},
   "outputs": [
    {
     "data": {
      "text/plain": [
       "(1, 2, 3)"
      ]
     },
     "execution_count": 6,
     "metadata": {},
     "output_type": "execute_result"
    }
   ],
   "source": [
    "aTuple"
   ]
  },
  {
   "cell_type": "code",
   "execution_count": 7,
   "id": "779de753",
   "metadata": {},
   "outputs": [
    {
     "name": "stdout",
     "output_type": "stream",
     "text": [
      "<class 'tuple'>\n"
     ]
    }
   ],
   "source": [
    "print(type(aTuple))"
   ]
  },
  {
   "cell_type": "code",
   "execution_count": 8,
   "id": "71dcb9ac",
   "metadata": {},
   "outputs": [],
   "source": [
    "v = list(aTuple)"
   ]
  },
  {
   "cell_type": "code",
   "execution_count": 9,
   "id": "1e4042b0",
   "metadata": {},
   "outputs": [
    {
     "data": {
      "text/plain": [
       "[-1, 2, 3]"
      ]
     },
     "execution_count": 9,
     "metadata": {},
     "output_type": "execute_result"
    }
   ],
   "source": [
    "v[0] = -1\n",
    "v"
   ]
  },
  {
   "cell_type": "code",
   "execution_count": null,
   "id": "02ab7343",
   "metadata": {},
   "outputs": [],
   "source": []
  }
 ],
 "metadata": {
  "kernelspec": {
   "display_name": "env (3.13.7)",
   "language": "python",
   "name": "python3"
  },
  "language_info": {
   "codemirror_mode": {
    "name": "ipython",
    "version": 3
   },
   "file_extension": ".py",
   "mimetype": "text/x-python",
   "name": "python",
   "nbconvert_exporter": "python",
   "pygments_lexer": "ipython3",
   "version": "3.13.7"
  }
 },
 "nbformat": 4,
 "nbformat_minor": 5
}
