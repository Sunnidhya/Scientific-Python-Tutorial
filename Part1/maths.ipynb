{
 "cells": [
  {
   "cell_type": "code",
   "execution_count": 1,
   "id": "6bd92451",
   "metadata": {},
   "outputs": [
    {
     "name": "stdout",
     "output_type": "stream",
     "text": [
      "Variable   Type     Data/Info\n",
      "-----------------------------\n",
      "x          int      7\n",
      "y          float    4.1\n",
      "z          float    7.0\n"
     ]
    }
   ],
   "source": [
    "x = 7\n",
    "y = 4.1\n",
    "z = 7.0\n",
    "\n",
    "%whos"
   ]
  },
  {
   "cell_type": "code",
   "execution_count": 3,
   "id": "f730e8e2",
   "metadata": {},
   "outputs": [
    {
     "name": "stdout",
     "output_type": "stream",
     "text": [
      "2.9000000000000004\n"
     ]
    }
   ],
   "source": [
    "print(x-y)\n",
    "# Floating point algebra is different from real algebra depends on precision and mantissa and exponent based on computer architecture"
   ]
  },
  {
   "cell_type": "code",
   "execution_count": 5,
   "id": "de5ef834",
   "metadata": {},
   "outputs": [
    {
     "data": {
      "text/plain": [
       "7"
      ]
     },
     "execution_count": 5,
     "metadata": {},
     "output_type": "execute_result"
    }
   ],
   "source": [
    "# new line\n",
    "4\\\n",
    "    +3"
   ]
  },
  {
   "cell_type": "code",
   "execution_count": 6,
   "id": "6fb9a9db",
   "metadata": {},
   "outputs": [
    {
     "data": {
      "text/plain": [
       "9"
      ]
     },
     "execution_count": 6,
     "metadata": {},
     "output_type": "execute_result"
    }
   ],
   "source": [
    "#powers\n",
    "3**2"
   ]
  },
  {
   "cell_type": "code",
   "execution_count": 7,
   "id": "754719e7",
   "metadata": {},
   "outputs": [
    {
     "data": {
      "text/plain": [
       "3.0"
      ]
     },
     "execution_count": 7,
     "metadata": {},
     "output_type": "execute_result"
    }
   ],
   "source": [
    "9**(1/2)"
   ]
  },
  {
   "cell_type": "code",
   "execution_count": 10,
   "id": "007c8307",
   "metadata": {},
   "outputs": [
    {
     "name": "stdout",
     "output_type": "stream",
     "text": [
      "SunnyRoy\n"
     ]
    }
   ],
   "source": [
    "fName = 'Sunny'\n",
    "lName = 'Roy'\n",
    "print(fName + lName)\n",
    "\n",
    "# Operator overloading of + operator\n",
    "# For str type we can add but not subtract"
   ]
  },
  {
   "cell_type": "code",
   "execution_count": 11,
   "id": "c71daefc",
   "metadata": {},
   "outputs": [
    {
     "data": {
      "text/plain": [
       "'SunnySunnySunnySunny'"
      ]
     },
     "execution_count": 11,
     "metadata": {},
     "output_type": "execute_result"
    }
   ],
   "source": [
    "fName * 4"
   ]
  },
  {
   "cell_type": "code",
   "execution_count": 12,
   "id": "a8eef862",
   "metadata": {},
   "outputs": [
    {
     "ename": "TypeError",
     "evalue": "unsupported operand type(s) for /: 'str' and 'int'",
     "output_type": "error",
     "traceback": [
      "\u001b[31m---------------------------------------------------------------------------\u001b[39m",
      "\u001b[31mTypeError\u001b[39m                                 Traceback (most recent call last)",
      "\u001b[36mCell\u001b[39m\u001b[36m \u001b[39m\u001b[32mIn[12]\u001b[39m\u001b[32m, line 1\u001b[39m\n\u001b[32m----> \u001b[39m\u001b[32m1\u001b[39m \u001b[43mfName\u001b[49m\u001b[43m \u001b[49m\u001b[43m/\u001b[49m\u001b[43m \u001b[49m\u001b[32;43m2\u001b[39;49m\n",
      "\u001b[31mTypeError\u001b[39m: unsupported operand type(s) for /: 'str' and 'int'"
     ]
    }
   ],
   "source": [
    "fName / 2"
   ]
  },
  {
   "cell_type": "code",
   "execution_count": 13,
   "id": "458a0225",
   "metadata": {},
   "outputs": [],
   "source": [
    "# Division is also not a valid \n",
    "# operator"
   ]
  },
  {
   "cell_type": "code",
   "execution_count": null,
   "id": "d95244d3",
   "metadata": {},
   "outputs": [],
   "source": []
  }
 ],
 "metadata": {
  "kernelspec": {
   "display_name": "env (3.13.7)",
   "language": "python",
   "name": "python3"
  },
  "language_info": {
   "codemirror_mode": {
    "name": "ipython",
    "version": 3
   },
   "file_extension": ".py",
   "mimetype": "text/x-python",
   "name": "python",
   "nbconvert_exporter": "python",
   "pygments_lexer": "ipython3",
   "version": "3.13.7"
  }
 },
 "nbformat": 4,
 "nbformat_minor": 5
}
