{
 "cells": [
  {
   "cell_type": "code",
   "execution_count": null,
   "id": "caf245d5",
   "metadata": {},
   "outputs": [
    {
     "name": "stdout",
     "output_type": "stream",
     "text": [
      "3 times 5 = 15\n"
     ]
    }
   ],
   "source": [
    "x = 3\n",
    "y = 5\n",
    "print(f\"{x} times {y} = {x*y}\")"
   ]
  },
  {
   "cell_type": "code",
   "execution_count": 11,
   "id": "8e4ee09e",
   "metadata": {},
   "outputs": [
    {
     "data": {
      "text/plain": [
       "str"
      ]
     },
     "execution_count": 11,
     "metadata": {},
     "output_type": "execute_result"
    }
   ],
   "source": [
    "ans = input('Feed me a stray cat. ')\n",
    "# input always returns a string which\n",
    "# we would need to comvert to int, float etc.\n",
    "type(ans)"
   ]
  },
  {
   "cell_type": "code",
   "execution_count": 17,
   "id": "471abfa9",
   "metadata": {},
   "outputs": [],
   "source": [
    "ans = int(ans)\n",
    "ans = float(ans)"
   ]
  },
  {
   "cell_type": "code",
   "execution_count": 18,
   "id": "f2fc1da2",
   "metadata": {},
   "outputs": [
    {
     "data": {
      "text/plain": [
       "8.0"
      ]
     },
     "execution_count": 18,
     "metadata": {},
     "output_type": "execute_result"
    }
   ],
   "source": [
    "ans"
   ]
  },
  {
   "cell_type": "code",
   "execution_count": 19,
   "id": "a6ccd216",
   "metadata": {},
   "outputs": [],
   "source": [
    "def pythagoras_theorem(a, b):\n",
    "    return (a**2 + b**2)**(1/2)"
   ]
  },
  {
   "cell_type": "code",
   "execution_count": 20,
   "id": "300afde2",
   "metadata": {},
   "outputs": [
    {
     "data": {
      "text/plain": [
       "5.0"
      ]
     },
     "execution_count": 20,
     "metadata": {},
     "output_type": "execute_result"
    }
   ],
   "source": [
    "a = float(input(\"Enter a\"))\n",
    "b = float(input(\"Enter b\"))\n",
    "pythagoras_theorem(a,b)\n"
   ]
  },
  {
   "cell_type": "code",
   "execution_count": null,
   "id": "d913355f",
   "metadata": {},
   "outputs": [],
   "source": []
  }
 ],
 "metadata": {
  "kernelspec": {
   "display_name": "env (3.13.7)",
   "language": "python",
   "name": "python3"
  },
  "language_info": {
   "codemirror_mode": {
    "name": "ipython",
    "version": 3
   },
   "file_extension": ".py",
   "mimetype": "text/x-python",
   "name": "python",
   "nbconvert_exporter": "python",
   "pygments_lexer": "ipython3",
   "version": "3.13.7"
  }
 },
 "nbformat": 4,
 "nbformat_minor": 5
}
