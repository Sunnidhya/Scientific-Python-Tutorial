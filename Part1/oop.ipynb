{
 "cells": [
  {
   "cell_type": "code",
   "execution_count": 1,
   "id": "2f194e69",
   "metadata": {},
   "outputs": [],
   "source": [
    "# Object Oriented programming"
   ]
  },
  {
   "cell_type": "code",
   "execution_count": null,
   "id": "a31ec0ec",
   "metadata": {},
   "outputs": [],
   "source": [
    "# classes are basically like dictionaries where we store values based on keys.\n",
    "class Experiment(object):\n",
    "    # constructor\n",
    "    def __init__(self, eType, dataN, status='ongoing'):\n",
    "        self.expType = eType\n",
    "        self.count = dataN\n",
    "        self.expStatus = status\n",
    "\n",
    "    def increaseCount(self, number):\n",
    "        self.count += number\n",
    "\n",
    "    def changeExpStatus(self, status):\n",
    "        self.expStatus = status"
   ]
  },
  {
   "cell_type": "code",
   "execution_count": 3,
   "id": "15d3ab1a",
   "metadata": {},
   "outputs": [],
   "source": [
    "myExp = Experiment('Brain', 120)"
   ]
  },
  {
   "cell_type": "code",
   "execution_count": 4,
   "id": "5d48a507",
   "metadata": {},
   "outputs": [
    {
     "data": {
      "text/plain": [
       "<__main__.Experiment at 0x17c01144830>"
      ]
     },
     "execution_count": 4,
     "metadata": {},
     "output_type": "execute_result"
    }
   ],
   "source": [
    "myExp"
   ]
  },
  {
   "cell_type": "code",
   "execution_count": 5,
   "id": "97fb13a5",
   "metadata": {},
   "outputs": [
    {
     "data": {
      "text/plain": [
       "120"
      ]
     },
     "execution_count": 5,
     "metadata": {},
     "output_type": "execute_result"
    }
   ],
   "source": [
    "myExp.count"
   ]
  },
  {
   "cell_type": "code",
   "execution_count": 6,
   "id": "26988da7",
   "metadata": {},
   "outputs": [],
   "source": [
    "myExp.increaseCount(10)"
   ]
  },
  {
   "cell_type": "code",
   "execution_count": 7,
   "id": "d6989f32",
   "metadata": {},
   "outputs": [
    {
     "data": {
      "text/plain": [
       "130"
      ]
     },
     "execution_count": 7,
     "metadata": {},
     "output_type": "execute_result"
    }
   ],
   "source": [
    "myExp.count"
   ]
  },
  {
   "cell_type": "code",
   "execution_count": 8,
   "id": "91e3f113",
   "metadata": {},
   "outputs": [
    {
     "name": "stdout",
     "output_type": "stream",
     "text": [
      "<__main__.Experiment object at 0x0000017C01144830>\n"
     ]
    }
   ],
   "source": [
    "print(myExp)"
   ]
  },
  {
   "cell_type": "code",
   "execution_count": 18,
   "id": "8b49f03f",
   "metadata": {},
   "outputs": [],
   "source": [
    "# classes are basically like dictionaries where we store values based on keys. In case of classed we have methods and variables\n",
    "class Experiment(object):\n",
    "    # constructor\n",
    "    def __init__(self, eType, dataN, status='ongoing'):\n",
    "        self.expType = eType\n",
    "        self.count = dataN\n",
    "        self.expStatus = status\n",
    "\n",
    "    def increaseCount(self, number):\n",
    "        self.count += number\n",
    "\n",
    "    def changeExpStatus(self, status):\n",
    "        self.expStatus = status\n",
    "\n",
    "    # Special Function to print definition of the class\n",
    "    def __str__(self):\n",
    "        return 'Experiment type: ' + self.expType + ' has ' + str(self.count) + ' data points '"
   ]
  },
  {
   "cell_type": "code",
   "execution_count": 16,
   "id": "2f5778e8",
   "metadata": {},
   "outputs": [],
   "source": [
    "myExp = Experiment('Brain', 120)"
   ]
  },
  {
   "cell_type": "code",
   "execution_count": 17,
   "id": "463f5dfb",
   "metadata": {},
   "outputs": [
    {
     "name": "stdout",
     "output_type": "stream",
     "text": [
      "Experiment type: Brain has 120 data points \n"
     ]
    }
   ],
   "source": [
    "print(myExp)"
   ]
  },
  {
   "cell_type": "code",
   "execution_count": 19,
   "id": "dc531251",
   "metadata": {},
   "outputs": [],
   "source": [
    "# Exercise\n",
    "# It is about a board game"
   ]
  },
  {
   "cell_type": "code",
   "execution_count": 29,
   "id": "d18fbb68",
   "metadata": {},
   "outputs": [],
   "source": [
    "class BoardGame(object):\n",
    "    def __init__(self, nameB, numP=0, numW=0):\n",
    "        self.nameOfBGame = nameB\n",
    "        self.numOfPlay = numP\n",
    "        self.numWon = numW\n",
    "        self.games = []\n",
    "\n",
    "    def update(self, status):\n",
    "        self.numOfPlay += 1\n",
    "        if status == 'win':\n",
    "            self.numWon += 1\n",
    "            self.games.append('win')\n",
    "        else:\n",
    "            self.games.append('loss')\n",
    "\n",
    "    def lastGame(self):\n",
    "        return self.games[-1]\n"
   ]
  },
  {
   "cell_type": "code",
   "execution_count": 30,
   "id": "e192ff6b",
   "metadata": {},
   "outputs": [],
   "source": [
    "import random\n",
    "\n",
    "outcomes = ['win', 'loss']\n",
    "bGame = BoardGame('Ludo')\n",
    "bGame.update(random.choice(outcomes))"
   ]
  },
  {
   "cell_type": "code",
   "execution_count": 37,
   "id": "3f843082",
   "metadata": {},
   "outputs": [],
   "source": [
    "bGame.update(random.choice(outcomes))\n",
    "bGame.update(random.choice(outcomes))\n",
    "bGame.update(random.choice(outcomes))\n"
   ]
  },
  {
   "cell_type": "code",
   "execution_count": 38,
   "id": "ebd3c68b",
   "metadata": {},
   "outputs": [
    {
     "data": {
      "text/plain": [
       "['loss',\n",
       " 'win',\n",
       " 'loss',\n",
       " 'loss',\n",
       " 'loss',\n",
       " 'loss',\n",
       " 'loss',\n",
       " 'loss',\n",
       " 'loss',\n",
       " 'loss',\n",
       " 'win',\n",
       " 'win',\n",
       " 'win']"
      ]
     },
     "execution_count": 38,
     "metadata": {},
     "output_type": "execute_result"
    }
   ],
   "source": [
    "bGame.games"
   ]
  },
  {
   "cell_type": "code",
   "execution_count": 39,
   "id": "5ee79210",
   "metadata": {},
   "outputs": [
    {
     "data": {
      "text/plain": [
       "'win'"
      ]
     },
     "execution_count": 39,
     "metadata": {},
     "output_type": "execute_result"
    }
   ],
   "source": [
    "bGame.lastGame()"
   ]
  },
  {
   "cell_type": "code",
   "execution_count": null,
   "id": "b25d62af",
   "metadata": {},
   "outputs": [],
   "source": []
  }
 ],
 "metadata": {
  "kernelspec": {
   "display_name": "env (3.13.7)",
   "language": "python",
   "name": "python3"
  },
  "language_info": {
   "codemirror_mode": {
    "name": "ipython",
    "version": 3
   },
   "file_extension": ".py",
   "mimetype": "text/x-python",
   "name": "python",
   "nbconvert_exporter": "python",
   "pygments_lexer": "ipython3",
   "version": "3.13.7"
  }
 },
 "nbformat": 4,
 "nbformat_minor": 5
}
