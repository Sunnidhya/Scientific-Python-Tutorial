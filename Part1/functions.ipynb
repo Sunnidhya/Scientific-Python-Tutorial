{
 "cells": [
  {
   "cell_type": "code",
   "execution_count": 3,
   "id": "92bedb3b",
   "metadata": {},
   "outputs": [
    {
     "data": {
      "text/plain": [
       "60"
      ]
     },
     "execution_count": 3,
     "metadata": {},
     "output_type": "execute_result"
    }
   ],
   "source": [
    "sum([10,20,30])"
   ]
  },
  {
   "cell_type": "code",
   "execution_count": 4,
   "id": "e699469c",
   "metadata": {},
   "outputs": [
    {
     "data": {
      "text/plain": [
       "6"
      ]
     },
     "execution_count": 4,
     "metadata": {},
     "output_type": "execute_result"
    }
   ],
   "source": [
    "lst = [1,2,3]\n",
    "sum(lst)"
   ]
  },
  {
   "cell_type": "code",
   "execution_count": 5,
   "id": "7b4128bd",
   "metadata": {},
   "outputs": [
    {
     "data": {
      "text/plain": [
       "3"
      ]
     },
     "execution_count": 5,
     "metadata": {},
     "output_type": "execute_result"
    }
   ],
   "source": [
    "len(lst)"
   ]
  },
  {
   "cell_type": "code",
   "execution_count": 7,
   "id": "03417121",
   "metadata": {},
   "outputs": [
    {
     "data": {
      "text/plain": [
       "4"
      ]
     },
     "execution_count": 7,
     "metadata": {},
     "output_type": "execute_result"
    }
   ],
   "source": [
    "len(range(1,5))"
   ]
  },
  {
   "cell_type": "code",
   "execution_count": 8,
   "id": "911a1833",
   "metadata": {},
   "outputs": [
    {
     "name": "stdout",
     "output_type": "stream",
     "text": [
      "2.0\n"
     ]
    }
   ],
   "source": [
    "print(sum(lst)/len(lst))"
   ]
  },
  {
   "cell_type": "code",
   "execution_count": 10,
   "id": "3952db36",
   "metadata": {},
   "outputs": [],
   "source": [
    "# Numpy library and their functions\n",
    "# The base vairant of python doesnot\n",
    "# have all the mean and average of lists\n",
    "# hence it makes the python fast.\n",
    "# To access those we need numpy"
   ]
  },
  {
   "cell_type": "code",
   "execution_count": 11,
   "id": "1056c63c",
   "metadata": {},
   "outputs": [],
   "source": [
    "import numpy as np"
   ]
  },
  {
   "cell_type": "code",
   "execution_count": 16,
   "id": "43e7d2f9",
   "metadata": {},
   "outputs": [
    {
     "data": {
      "text/plain": [
       "2.0"
      ]
     },
     "execution_count": 16,
     "metadata": {},
     "output_type": "execute_result"
    }
   ],
   "source": [
    "np.mean(lst).item()"
   ]
  },
  {
   "cell_type": "code",
   "execution_count": 19,
   "id": "45036603",
   "metadata": {},
   "outputs": [
    {
     "data": {
      "text/plain": [
       "array([1.        , 1.36842105, 1.73684211, 2.10526316, 2.47368421,\n",
       "       2.84210526, 3.21052632, 3.57894737, 3.94736842, 4.31578947,\n",
       "       4.68421053, 5.05263158, 5.42105263, 5.78947368, 6.15789474,\n",
       "       6.52631579, 6.89473684, 7.26315789, 7.63157895, 8.        ])"
      ]
     },
     "execution_count": 19,
     "metadata": {},
     "output_type": "execute_result"
    }
   ],
   "source": [
    "# Linearly spaced numbers between start and stop divided by the total number of steps\n",
    "np.linspace(1,8,20)"
   ]
  },
  {
   "cell_type": "code",
   "execution_count": 21,
   "id": "313a5753",
   "metadata": {},
   "outputs": [
    {
     "name": "stdout",
     "output_type": "stream",
     "text": [
      "<class 'list'>\n",
      "<class 'numpy.ndarray'>\n"
     ]
    }
   ],
   "source": [
    "number = [1,2,3,4,5]\n",
    "numbernp = np.array(number)\n",
    "print(type(number))\n",
    "print(type(numbernp))"
   ]
  },
  {
   "cell_type": "code",
   "execution_count": 24,
   "id": "48dfbe4c",
   "metadata": {},
   "outputs": [
    {
     "name": "stdout",
     "output_type": "stream",
     "text": [
      "1\n"
     ]
    }
   ],
   "source": [
    "print(numbernp.min())"
   ]
  },
  {
   "cell_type": "code",
   "execution_count": 25,
   "id": "673161bd",
   "metadata": {},
   "outputs": [
    {
     "name": "stdout",
     "output_type": "stream",
     "text": [
      "5\n"
     ]
    }
   ],
   "source": [
    "print(numbernp.max())"
   ]
  },
  {
   "cell_type": "code",
   "execution_count": 26,
   "id": "c27c8e5a",
   "metadata": {},
   "outputs": [
    {
     "name": "stdout",
     "output_type": "stream",
     "text": [
      "[4, 3, 7, 8, 1, 4, 3, 9]\n"
     ]
    }
   ],
   "source": [
    "n = [4,3,7,8,1,4,3,9]\n",
    "print(n)\n",
    "n.sort()"
   ]
  },
  {
   "cell_type": "code",
   "execution_count": 27,
   "id": "43ba318f",
   "metadata": {},
   "outputs": [
    {
     "data": {
      "text/plain": [
       "[1, 3, 3, 4, 4, 7, 8, 9]"
      ]
     },
     "execution_count": 27,
     "metadata": {},
     "output_type": "execute_result"
    }
   ],
   "source": [
    "n"
   ]
  },
  {
   "cell_type": "code",
   "execution_count": 28,
   "id": "4dd77919",
   "metadata": {},
   "outputs": [
    {
     "name": "stdout",
     "output_type": "stream",
     "text": [
      "<class 'list'>\n",
      "<class 'numpy.ndarray'>\n"
     ]
    }
   ],
   "source": [
    "print(type(n))\n",
    "n1 = np.sort(n)\n",
    "print(type(n1))"
   ]
  },
  {
   "cell_type": "code",
   "execution_count": 29,
   "id": "5e1fe62c",
   "metadata": {},
   "outputs": [],
   "source": [
    "# Pandas"
   ]
  },
  {
   "cell_type": "code",
   "execution_count": 1,
   "id": "5ba54b6d",
   "metadata": {},
   "outputs": [
    {
     "name": "stdout",
     "output_type": "stream",
     "text": [
      "Requirement already satisfied: pandas in c:\\users\\sunni\\desktop\\gitprojects\\scientific-python-tutorial\\env\\lib\\site-packages (2.3.3)\n",
      "Requirement already satisfied: numpy>=1.26.0 in c:\\users\\sunni\\desktop\\gitprojects\\scientific-python-tutorial\\env\\lib\\site-packages (from pandas) (2.3.3)\n",
      "Requirement already satisfied: python-dateutil>=2.8.2 in c:\\users\\sunni\\desktop\\gitprojects\\scientific-python-tutorial\\env\\lib\\site-packages (from pandas) (2.9.0.post0)\n",
      "Requirement already satisfied: pytz>=2020.1 in c:\\users\\sunni\\desktop\\gitprojects\\scientific-python-tutorial\\env\\lib\\site-packages (from pandas) (2025.2)\n",
      "Requirement already satisfied: tzdata>=2022.7 in c:\\users\\sunni\\desktop\\gitprojects\\scientific-python-tutorial\\env\\lib\\site-packages (from pandas) (2025.2)\n",
      "Requirement already satisfied: six>=1.5 in c:\\users\\sunni\\desktop\\gitprojects\\scientific-python-tutorial\\env\\lib\\site-packages (from python-dateutil>=2.8.2->pandas) (1.17.0)\n"
     ]
    }
   ],
   "source": [
    "!pip install pandas"
   ]
  },
  {
   "cell_type": "code",
   "execution_count": 3,
   "id": "c7d94686",
   "metadata": {},
   "outputs": [],
   "source": [
    "import pandas as pd\n",
    "import numpy as np"
   ]
  },
  {
   "cell_type": "code",
   "execution_count": 4,
   "id": "c3c7b1f3",
   "metadata": {},
   "outputs": [],
   "source": [
    "var1 = np.random.randn(100)*5 + 20"
   ]
  },
  {
   "cell_type": "code",
   "execution_count": 5,
   "id": "173b7cf3",
   "metadata": {},
   "outputs": [
    {
     "data": {
      "text/plain": [
       "array([21.53421016, 22.45138312, 21.92192729, 22.09398778, 16.46412169,\n",
       "       26.12807447, 15.84094113, 23.03261178, 18.1130488 , 25.32713632,\n",
       "       26.69020001, 23.47234752, 19.14726857, 22.16387269, 16.17763119,\n",
       "       22.5256329 , 17.20454172, 21.55953449, 21.06025245, 13.98259115,\n",
       "       35.56493788, 24.06782501, 22.25144324, 16.73275116, 18.98520763,\n",
       "       17.87988669, 18.30077375, 26.65654579, 20.38539025, 19.85289238,\n",
       "       25.91564439, 23.73953358, 22.28443835, 20.41239352, 23.31435808,\n",
       "       19.59570563, 27.39458941, 21.24981368, 19.96347188, 24.52495025,\n",
       "       17.35773854, 24.78212364, 14.68166387, 23.49877482, 17.66276331,\n",
       "       24.17771873, 17.33764687, 21.75794467, 15.30494481, 20.08274002,\n",
       "       20.16879949, 20.97004382, 24.21247191, 21.99181481, 11.27296958,\n",
       "       27.81700469, 12.03894284, 28.44488766, 19.45029273, 21.85235352,\n",
       "       23.15984434, 18.81977185, 18.7546354 ,  2.97021785, 19.11953133,\n",
       "       24.55189675, 23.84565602, 11.32360871, 18.52143139, 22.63820771,\n",
       "       15.67504934, 24.37749738, 13.42283565, 16.07753388, 14.69268581,\n",
       "       22.10263397, 14.78889119, 13.6616772 , 14.21927418, 21.74818635,\n",
       "       19.3269881 , 23.6276108 , 29.64017651, 15.42451986, 27.47631149,\n",
       "       16.67841791, 25.48430543, 18.76346199, 15.32188167, 18.01413868,\n",
       "       17.56846687, 19.57070757, 20.70792914, 25.62008448,  4.11457995,\n",
       "       28.36781356, 22.17549914, 14.26752338,  8.0785079 , 23.78797476])"
      ]
     },
     "execution_count": 5,
     "metadata": {},
     "output_type": "execute_result"
    }
   ],
   "source": [
    "var1"
   ]
  },
  {
   "cell_type": "code",
   "execution_count": 9,
   "id": "e0caef1f",
   "metadata": {},
   "outputs": [
    {
     "data": {
      "text/plain": [
       "np.float64(20.19315473602889)"
      ]
     },
     "execution_count": 9,
     "metadata": {},
     "output_type": "execute_result"
    }
   ],
   "source": [
    "np.mean(var1)\n",
    "# variance of 5 and mean of 20\n",
    "# Hence mean should be around 20"
   ]
  },
  {
   "cell_type": "code",
   "execution_count": 10,
   "id": "b38e06a6",
   "metadata": {},
   "outputs": [],
   "source": [
    "var2 = np.random.randn(100)>0"
   ]
  },
  {
   "cell_type": "code",
   "execution_count": 11,
   "id": "d4b3f061",
   "metadata": {},
   "outputs": [
    {
     "data": {
      "text/plain": [
       "array([ True,  True,  True,  True,  True, False,  True,  True,  True,\n",
       "       False, False,  True, False, False, False,  True,  True,  True,\n",
       "       False, False, False, False,  True,  True, False,  True,  True,\n",
       "        True,  True,  True, False, False, False,  True,  True,  True,\n",
       "       False,  True,  True, False, False, False,  True,  True,  True,\n",
       "       False, False,  True,  True,  True,  True, False, False,  True,\n",
       "        True,  True, False, False,  True,  True, False, False,  True,\n",
       "       False,  True, False,  True, False, False, False, False,  True,\n",
       "       False,  True,  True, False,  True, False, False, False,  True,\n",
       "       False,  True, False,  True, False,  True, False, False, False,\n",
       "        True, False, False,  True,  True, False, False, False, False,\n",
       "       False])"
      ]
     },
     "execution_count": 11,
     "metadata": {},
     "output_type": "execute_result"
    }
   ],
   "source": [
    "var2"
   ]
  },
  {
   "cell_type": "code",
   "execution_count": 12,
   "id": "bb503257",
   "metadata": {},
   "outputs": [],
   "source": [
    "labels = ['Temp. (C)', 'Ice cream eaten?']"
   ]
  },
  {
   "cell_type": "code",
   "execution_count": 13,
   "id": "c8f39784",
   "metadata": {},
   "outputs": [],
   "source": [
    "# organizing the data of dictionary as a proper dataframe\n",
    "D ={labels[0]: var1, labels[1]: var2}"
   ]
  },
  {
   "cell_type": "code",
   "execution_count": 14,
   "id": "3691e56b",
   "metadata": {},
   "outputs": [],
   "source": [
    "df = pd.DataFrame(data=D)"
   ]
  },
  {
   "cell_type": "code",
   "execution_count": 15,
   "id": "fce725fe",
   "metadata": {},
   "outputs": [
    {
     "data": {
      "text/html": [
       "<div>\n",
       "<style scoped>\n",
       "    .dataframe tbody tr th:only-of-type {\n",
       "        vertical-align: middle;\n",
       "    }\n",
       "\n",
       "    .dataframe tbody tr th {\n",
       "        vertical-align: top;\n",
       "    }\n",
       "\n",
       "    .dataframe thead th {\n",
       "        text-align: right;\n",
       "    }\n",
       "</style>\n",
       "<table border=\"1\" class=\"dataframe\">\n",
       "  <thead>\n",
       "    <tr style=\"text-align: right;\">\n",
       "      <th></th>\n",
       "      <th>Temp. (C)</th>\n",
       "      <th>Ice cream eaten?</th>\n",
       "    </tr>\n",
       "  </thead>\n",
       "  <tbody>\n",
       "    <tr>\n",
       "      <th>0</th>\n",
       "      <td>21.534210</td>\n",
       "      <td>True</td>\n",
       "    </tr>\n",
       "    <tr>\n",
       "      <th>1</th>\n",
       "      <td>22.451383</td>\n",
       "      <td>True</td>\n",
       "    </tr>\n",
       "    <tr>\n",
       "      <th>2</th>\n",
       "      <td>21.921927</td>\n",
       "      <td>True</td>\n",
       "    </tr>\n",
       "    <tr>\n",
       "      <th>3</th>\n",
       "      <td>22.093988</td>\n",
       "      <td>True</td>\n",
       "    </tr>\n",
       "    <tr>\n",
       "      <th>4</th>\n",
       "      <td>16.464122</td>\n",
       "      <td>True</td>\n",
       "    </tr>\n",
       "    <tr>\n",
       "      <th>...</th>\n",
       "      <td>...</td>\n",
       "      <td>...</td>\n",
       "    </tr>\n",
       "    <tr>\n",
       "      <th>95</th>\n",
       "      <td>28.367814</td>\n",
       "      <td>False</td>\n",
       "    </tr>\n",
       "    <tr>\n",
       "      <th>96</th>\n",
       "      <td>22.175499</td>\n",
       "      <td>False</td>\n",
       "    </tr>\n",
       "    <tr>\n",
       "      <th>97</th>\n",
       "      <td>14.267523</td>\n",
       "      <td>False</td>\n",
       "    </tr>\n",
       "    <tr>\n",
       "      <th>98</th>\n",
       "      <td>8.078508</td>\n",
       "      <td>False</td>\n",
       "    </tr>\n",
       "    <tr>\n",
       "      <th>99</th>\n",
       "      <td>23.787975</td>\n",
       "      <td>False</td>\n",
       "    </tr>\n",
       "  </tbody>\n",
       "</table>\n",
       "<p>100 rows × 2 columns</p>\n",
       "</div>"
      ],
      "text/plain": [
       "    Temp. (C)  Ice cream eaten?\n",
       "0   21.534210              True\n",
       "1   22.451383              True\n",
       "2   21.921927              True\n",
       "3   22.093988              True\n",
       "4   16.464122              True\n",
       "..        ...               ...\n",
       "95  28.367814             False\n",
       "96  22.175499             False\n",
       "97  14.267523             False\n",
       "98   8.078508             False\n",
       "99  23.787975             False\n",
       "\n",
       "[100 rows x 2 columns]"
      ]
     },
     "execution_count": 15,
     "metadata": {},
     "output_type": "execute_result"
    }
   ],
   "source": [
    "df"
   ]
  },
  {
   "cell_type": "code",
   "execution_count": 17,
   "id": "17548d71",
   "metadata": {},
   "outputs": [
    {
     "data": {
      "text/html": [
       "<div>\n",
       "<style scoped>\n",
       "    .dataframe tbody tr th:only-of-type {\n",
       "        vertical-align: middle;\n",
       "    }\n",
       "\n",
       "    .dataframe tbody tr th {\n",
       "        vertical-align: top;\n",
       "    }\n",
       "\n",
       "    .dataframe thead th {\n",
       "        text-align: right;\n",
       "    }\n",
       "</style>\n",
       "<table border=\"1\" class=\"dataframe\">\n",
       "  <thead>\n",
       "    <tr style=\"text-align: right;\">\n",
       "      <th></th>\n",
       "      <th>Temp. (C)</th>\n",
       "      <th>Ice cream eaten?</th>\n",
       "    </tr>\n",
       "  </thead>\n",
       "  <tbody>\n",
       "    <tr>\n",
       "      <th>0</th>\n",
       "      <td>21.534210</td>\n",
       "      <td>True</td>\n",
       "    </tr>\n",
       "    <tr>\n",
       "      <th>1</th>\n",
       "      <td>22.451383</td>\n",
       "      <td>True</td>\n",
       "    </tr>\n",
       "    <tr>\n",
       "      <th>2</th>\n",
       "      <td>21.921927</td>\n",
       "      <td>True</td>\n",
       "    </tr>\n",
       "    <tr>\n",
       "      <th>3</th>\n",
       "      <td>22.093988</td>\n",
       "      <td>True</td>\n",
       "    </tr>\n",
       "    <tr>\n",
       "      <th>4</th>\n",
       "      <td>16.464122</td>\n",
       "      <td>True</td>\n",
       "    </tr>\n",
       "    <tr>\n",
       "      <th>5</th>\n",
       "      <td>26.128074</td>\n",
       "      <td>False</td>\n",
       "    </tr>\n",
       "    <tr>\n",
       "      <th>6</th>\n",
       "      <td>15.840941</td>\n",
       "      <td>True</td>\n",
       "    </tr>\n",
       "    <tr>\n",
       "      <th>7</th>\n",
       "      <td>23.032612</td>\n",
       "      <td>True</td>\n",
       "    </tr>\n",
       "    <tr>\n",
       "      <th>8</th>\n",
       "      <td>18.113049</td>\n",
       "      <td>True</td>\n",
       "    </tr>\n",
       "    <tr>\n",
       "      <th>9</th>\n",
       "      <td>25.327136</td>\n",
       "      <td>False</td>\n",
       "    </tr>\n",
       "    <tr>\n",
       "      <th>10</th>\n",
       "      <td>26.690200</td>\n",
       "      <td>False</td>\n",
       "    </tr>\n",
       "    <tr>\n",
       "      <th>11</th>\n",
       "      <td>23.472348</td>\n",
       "      <td>True</td>\n",
       "    </tr>\n",
       "  </tbody>\n",
       "</table>\n",
       "</div>"
      ],
      "text/plain": [
       "    Temp. (C)  Ice cream eaten?\n",
       "0   21.534210              True\n",
       "1   22.451383              True\n",
       "2   21.921927              True\n",
       "3   22.093988              True\n",
       "4   16.464122              True\n",
       "5   26.128074             False\n",
       "6   15.840941              True\n",
       "7   23.032612              True\n",
       "8   18.113049              True\n",
       "9   25.327136             False\n",
       "10  26.690200             False\n",
       "11  23.472348              True"
      ]
     },
     "execution_count": 17,
     "metadata": {},
     "output_type": "execute_result"
    }
   ],
   "source": [
    "df.head(12)"
   ]
  },
  {
   "cell_type": "code",
   "execution_count": 18,
   "id": "b6370e18",
   "metadata": {},
   "outputs": [
    {
     "data": {
      "text/plain": [
       "Temp. (C)           100\n",
       "Ice cream eaten?    100\n",
       "dtype: int64"
      ]
     },
     "execution_count": 18,
     "metadata": {},
     "output_type": "execute_result"
    }
   ],
   "source": [
    "df.count()"
   ]
  },
  {
   "cell_type": "code",
   "execution_count": 19,
   "id": "109b92bc",
   "metadata": {},
   "outputs": [
    {
     "data": {
      "text/plain": [
       "Temp. (C)           20.193155\n",
       "Ice cream eaten?     0.500000\n",
       "dtype: float64"
      ]
     },
     "execution_count": 19,
     "metadata": {},
     "output_type": "execute_result"
    }
   ],
   "source": [
    "df.mean()"
   ]
  },
  {
   "cell_type": "code",
   "execution_count": 20,
   "id": "2d0f3e64",
   "metadata": {},
   "outputs": [],
   "source": [
    "# Exercise\n",
    "# 1) integers from 0 to 10\n",
    "# 2) their squares\n",
    "# 3) their logs"
   ]
  },
  {
   "cell_type": "code",
   "execution_count": 23,
   "id": "3437f2dc",
   "metadata": {},
   "outputs": [
    {
     "name": "stderr",
     "output_type": "stream",
     "text": [
      "C:\\Users\\sunni\\AppData\\Local\\Temp\\ipykernel_30328\\2161507900.py:3: RuntimeWarning: divide by zero encountered in log\n",
      "  var3 = np.log(var1)\n"
     ]
    }
   ],
   "source": [
    "var1 = np.array(range(0,11))\n",
    "var2 = np.pow(var1, 2)\n",
    "var3 = np.log(var1)"
   ]
  },
  {
   "cell_type": "code",
   "execution_count": 24,
   "id": "459ce35b",
   "metadata": {},
   "outputs": [],
   "source": [
    "labels = ['integer', 'squares', 'logs']\n"
   ]
  },
  {
   "cell_type": "code",
   "execution_count": 25,
   "id": "dbde9282",
   "metadata": {},
   "outputs": [],
   "source": [
    "D = {labels[0]: var1, labels[1]: var2, labels[2]: var3}"
   ]
  },
  {
   "cell_type": "code",
   "execution_count": 26,
   "id": "7dae186d",
   "metadata": {},
   "outputs": [],
   "source": [
    "df = pd.DataFrame(data=D)"
   ]
  },
  {
   "cell_type": "code",
   "execution_count": 27,
   "id": "32994bdc",
   "metadata": {},
   "outputs": [
    {
     "data": {
      "text/html": [
       "<div>\n",
       "<style scoped>\n",
       "    .dataframe tbody tr th:only-of-type {\n",
       "        vertical-align: middle;\n",
       "    }\n",
       "\n",
       "    .dataframe tbody tr th {\n",
       "        vertical-align: top;\n",
       "    }\n",
       "\n",
       "    .dataframe thead th {\n",
       "        text-align: right;\n",
       "    }\n",
       "</style>\n",
       "<table border=\"1\" class=\"dataframe\">\n",
       "  <thead>\n",
       "    <tr style=\"text-align: right;\">\n",
       "      <th></th>\n",
       "      <th>integer</th>\n",
       "      <th>squares</th>\n",
       "      <th>logs</th>\n",
       "    </tr>\n",
       "  </thead>\n",
       "  <tbody>\n",
       "    <tr>\n",
       "      <th>0</th>\n",
       "      <td>0</td>\n",
       "      <td>0</td>\n",
       "      <td>-inf</td>\n",
       "    </tr>\n",
       "    <tr>\n",
       "      <th>1</th>\n",
       "      <td>1</td>\n",
       "      <td>1</td>\n",
       "      <td>0.000000</td>\n",
       "    </tr>\n",
       "    <tr>\n",
       "      <th>2</th>\n",
       "      <td>2</td>\n",
       "      <td>4</td>\n",
       "      <td>0.693147</td>\n",
       "    </tr>\n",
       "    <tr>\n",
       "      <th>3</th>\n",
       "      <td>3</td>\n",
       "      <td>9</td>\n",
       "      <td>1.098612</td>\n",
       "    </tr>\n",
       "    <tr>\n",
       "      <th>4</th>\n",
       "      <td>4</td>\n",
       "      <td>16</td>\n",
       "      <td>1.386294</td>\n",
       "    </tr>\n",
       "    <tr>\n",
       "      <th>5</th>\n",
       "      <td>5</td>\n",
       "      <td>25</td>\n",
       "      <td>1.609438</td>\n",
       "    </tr>\n",
       "    <tr>\n",
       "      <th>6</th>\n",
       "      <td>6</td>\n",
       "      <td>36</td>\n",
       "      <td>1.791759</td>\n",
       "    </tr>\n",
       "    <tr>\n",
       "      <th>7</th>\n",
       "      <td>7</td>\n",
       "      <td>49</td>\n",
       "      <td>1.945910</td>\n",
       "    </tr>\n",
       "    <tr>\n",
       "      <th>8</th>\n",
       "      <td>8</td>\n",
       "      <td>64</td>\n",
       "      <td>2.079442</td>\n",
       "    </tr>\n",
       "    <tr>\n",
       "      <th>9</th>\n",
       "      <td>9</td>\n",
       "      <td>81</td>\n",
       "      <td>2.197225</td>\n",
       "    </tr>\n",
       "    <tr>\n",
       "      <th>10</th>\n",
       "      <td>10</td>\n",
       "      <td>100</td>\n",
       "      <td>2.302585</td>\n",
       "    </tr>\n",
       "  </tbody>\n",
       "</table>\n",
       "</div>"
      ],
      "text/plain": [
       "    integer  squares      logs\n",
       "0         0        0      -inf\n",
       "1         1        1  0.000000\n",
       "2         2        4  0.693147\n",
       "3         3        9  1.098612\n",
       "4         4       16  1.386294\n",
       "5         5       25  1.609438\n",
       "6         6       36  1.791759\n",
       "7         7       49  1.945910\n",
       "8         8       64  2.079442\n",
       "9         9       81  2.197225\n",
       "10       10      100  2.302585"
      ]
     },
     "execution_count": 27,
     "metadata": {},
     "output_type": "execute_result"
    }
   ],
   "source": [
    "df"
   ]
  },
  {
   "cell_type": "code",
   "execution_count": 28,
   "id": "95b87656",
   "metadata": {},
   "outputs": [
    {
     "name": "stdout",
     "output_type": "stream",
     "text": [
      "Help on built-in function sum in module builtins:\n",
      "\n",
      "sum(iterable, /, start=0)\n",
      "    Return the sum of a 'start' value (default: 0) plus an iterable of numbers\n",
      "\n",
      "    When the iterable is empty, return the start value.\n",
      "    This function is intended specifically for use with numeric values and may\n",
      "    reject non-numeric types.\n",
      "\n"
     ]
    }
   ],
   "source": [
    "help(sum)"
   ]
  },
  {
   "cell_type": "code",
   "execution_count": 29,
   "id": "d62a14d6",
   "metadata": {},
   "outputs": [],
   "source": [
    "import inspect"
   ]
  },
  {
   "cell_type": "code",
   "execution_count": 30,
   "id": "47aee359",
   "metadata": {},
   "outputs": [
    {
     "data": {
      "text/plain": [
       "(['@array_function_dispatch(_mean_dispatcher)\\n',\n",
       "  'def mean(a, axis=None, dtype=None, out=None, keepdims=np._NoValue, *,\\n',\n",
       "  '         where=np._NoValue):\\n',\n",
       "  '    \"\"\"\\n',\n",
       "  '    Compute the arithmetic mean along the specified axis.\\n',\n",
       "  '\\n',\n",
       "  '    Returns the average of the array elements.  The average is taken over\\n',\n",
       "  '    the flattened array by default, otherwise over the specified axis.\\n',\n",
       "  '    `float64` intermediate and return values are used for integer inputs.\\n',\n",
       "  '\\n',\n",
       "  '    Parameters\\n',\n",
       "  '    ----------\\n',\n",
       "  '    a : array_like\\n',\n",
       "  '        Array containing numbers whose mean is desired. If `a` is not an\\n',\n",
       "  '        array, a conversion is attempted.\\n',\n",
       "  '    axis : None or int or tuple of ints, optional\\n',\n",
       "  '        Axis or axes along which the means are computed. The default is to\\n',\n",
       "  '        compute the mean of the flattened array.\\n',\n",
       "  '\\n',\n",
       "  '        If this is a tuple of ints, a mean is performed over multiple axes,\\n',\n",
       "  '        instead of a single axis or all the axes as before.\\n',\n",
       "  '    dtype : data-type, optional\\n',\n",
       "  '        Type to use in computing the mean.  For integer inputs, the default\\n',\n",
       "  '        is `float64`; for floating point inputs, it is the same as the\\n',\n",
       "  '        input dtype.\\n',\n",
       "  '    out : ndarray, optional\\n',\n",
       "  '        Alternate output array in which to place the result.  The default\\n',\n",
       "  '        is ``None``; if provided, it must have the same shape as the\\n',\n",
       "  '        expected output, but the type will be cast if necessary.\\n',\n",
       "  '        See :ref:`ufuncs-output-type` for more details.\\n',\n",
       "  '        See :ref:`ufuncs-output-type` for more details.\\n',\n",
       "  '\\n',\n",
       "  '    keepdims : bool, optional\\n',\n",
       "  '        If this is set to True, the axes which are reduced are left\\n',\n",
       "  '        in the result as dimensions with size one. With this option,\\n',\n",
       "  '        the result will broadcast correctly against the input array.\\n',\n",
       "  '\\n',\n",
       "  '        If the default value is passed, then `keepdims` will not be\\n',\n",
       "  '        passed through to the `mean` method of sub-classes of\\n',\n",
       "  '        `ndarray`, however any non-default value will be.  If the\\n',\n",
       "  \"        sub-class' method does not implement `keepdims` any\\n\",\n",
       "  '        exceptions will be raised.\\n',\n",
       "  '\\n',\n",
       "  '    where : array_like of bool, optional\\n',\n",
       "  '        Elements to include in the mean. See `~numpy.ufunc.reduce` for details.\\n',\n",
       "  '\\n',\n",
       "  '        .. versionadded:: 1.20.0\\n',\n",
       "  '\\n',\n",
       "  '    Returns\\n',\n",
       "  '    -------\\n',\n",
       "  '    m : ndarray, see dtype parameter above\\n',\n",
       "  '        If `out=None`, returns a new array containing the mean values,\\n',\n",
       "  '        otherwise a reference to the output array is returned.\\n',\n",
       "  '\\n',\n",
       "  '    See Also\\n',\n",
       "  '    --------\\n',\n",
       "  '    average : Weighted average\\n',\n",
       "  '    std, var, nanmean, nanstd, nanvar\\n',\n",
       "  '\\n',\n",
       "  '    Notes\\n',\n",
       "  '    -----\\n',\n",
       "  '    The arithmetic mean is the sum of the elements along the axis divided\\n',\n",
       "  '    by the number of elements.\\n',\n",
       "  '\\n',\n",
       "  '    Note that for floating-point input, the mean is computed using the\\n',\n",
       "  '    same precision the input has.  Depending on the input data, this can\\n',\n",
       "  '    cause the results to be inaccurate, especially for `float32` (see\\n',\n",
       "  '    example below).  Specifying a higher-precision accumulator using the\\n',\n",
       "  '    `dtype` keyword can alleviate this issue.\\n',\n",
       "  '\\n',\n",
       "  '    By default, `float16` results are computed using `float32` intermediates\\n',\n",
       "  '    for extra precision.\\n',\n",
       "  '\\n',\n",
       "  '    Examples\\n',\n",
       "  '    --------\\n',\n",
       "  '    >>> import numpy as np\\n',\n",
       "  '    >>> a = np.array([[1, 2], [3, 4]])\\n',\n",
       "  '    >>> np.mean(a)\\n',\n",
       "  '    2.5\\n',\n",
       "  '    >>> np.mean(a, axis=0)\\n',\n",
       "  '    array([2., 3.])\\n',\n",
       "  '    >>> np.mean(a, axis=1)\\n',\n",
       "  '    array([1.5, 3.5])\\n',\n",
       "  '\\n',\n",
       "  '    In single precision, `mean` can be inaccurate:\\n',\n",
       "  '\\n',\n",
       "  '    >>> a = np.zeros((2, 512*512), dtype=np.float32)\\n',\n",
       "  '    >>> a[0, :] = 1.0\\n',\n",
       "  '    >>> a[1, :] = 0.1\\n',\n",
       "  '    >>> np.mean(a)\\n',\n",
       "  '    np.float32(0.54999924)\\n',\n",
       "  '\\n',\n",
       "  '    Computing the mean in float64 is more accurate:\\n',\n",
       "  '\\n',\n",
       "  '    >>> np.mean(a, dtype=np.float64)\\n',\n",
       "  '    0.55000000074505806 # may vary\\n',\n",
       "  '\\n',\n",
       "  '    Computing the mean in timedelta64 is available:\\n',\n",
       "  '\\n',\n",
       "  '    >>> b = np.array([1, 3], dtype=\"timedelta64[D]\")\\n',\n",
       "  '    >>> np.mean(b)\\n',\n",
       "  \"    np.timedelta64(2,'D')\\n\",\n",
       "  '\\n',\n",
       "  '    Specifying a where argument:\\n',\n",
       "  '\\n',\n",
       "  '    >>> a = np.array([[5, 9, 13], [14, 10, 12], [11, 15, 19]])\\n',\n",
       "  '    >>> np.mean(a)\\n',\n",
       "  '    12.0\\n',\n",
       "  '    >>> np.mean(a, where=[[True], [False], [False]])\\n',\n",
       "  '    9.0\\n',\n",
       "  '\\n',\n",
       "  '    \"\"\"\\n',\n",
       "  '    kwargs = {}\\n',\n",
       "  '    if keepdims is not np._NoValue:\\n',\n",
       "  \"        kwargs['keepdims'] = keepdims\\n\",\n",
       "  '    if where is not np._NoValue:\\n',\n",
       "  \"        kwargs['where'] = where\\n\",\n",
       "  '    if type(a) is not mu.ndarray:\\n',\n",
       "  '        try:\\n',\n",
       "  '            mean = a.mean\\n',\n",
       "  '        except AttributeError:\\n',\n",
       "  '            pass\\n',\n",
       "  '        else:\\n',\n",
       "  '            return mean(axis=axis, dtype=dtype, out=out, **kwargs)\\n',\n",
       "  '\\n',\n",
       "  '    return _methods._mean(a, axis=axis, dtype=dtype,\\n',\n",
       "  '                          out=out, **kwargs)\\n'],\n",
       " 3735)"
      ]
     },
     "execution_count": 30,
     "metadata": {},
     "output_type": "execute_result"
    }
   ],
   "source": [
    "inspect.getsourcelines(np.mean)"
   ]
  },
  {
   "cell_type": "code",
   "execution_count": null,
   "id": "a9492373",
   "metadata": {},
   "outputs": [],
   "source": []
  }
 ],
 "metadata": {
  "kernelspec": {
   "display_name": "env (3.13.7)",
   "language": "python",
   "name": "python3"
  },
  "language_info": {
   "codemirror_mode": {
    "name": "ipython",
    "version": 3
   },
   "file_extension": ".py",
   "mimetype": "text/x-python",
   "name": "python",
   "nbconvert_exporter": "python",
   "pygments_lexer": "ipython3",
   "version": "3.13.7"
  }
 },
 "nbformat": 4,
 "nbformat_minor": 5
}
